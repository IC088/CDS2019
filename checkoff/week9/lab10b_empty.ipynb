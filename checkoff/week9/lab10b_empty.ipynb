{
 "cells": [
  {
   "cell_type": "markdown",
   "metadata": {
    "colab_type": "text",
    "id": "HAA2XCLSQInJ"
   },
   "source": [
    "## Classification with word2vec \n",
    "\n",
    "-- Prof. Dorien Herremans\n",
    "\n",
    "We will be tackling a classification problem by first creating word embeddings, and comparing this to alternative approaches. \n",
    "\n",
    "During this tutorial, you will need some of the following libraries, let's install them first if you don't have them: "
   ]
  },
  {
   "cell_type": "code",
   "execution_count": 1,
   "metadata": {
    "colab": {},
    "colab_type": "code",
    "id": "O0AHw5vB1yOT"
   },
   "outputs": [
    {
     "name": "stdout",
     "output_type": "stream",
     "text": [
      "Requirement already satisfied: bs4 in /home/ivan/anaconda3/envs/tf_gpu/lib/python3.7/site-packages (0.0.1)\n",
      "Requirement already satisfied: beautifulsoup4 in /home/ivan/anaconda3/envs/tf_gpu/lib/python3.7/site-packages (from bs4) (4.8.1)\n",
      "Requirement already satisfied: soupsieve>=1.2 in /home/ivan/anaconda3/envs/tf_gpu/lib/python3.7/site-packages (from beautifulsoup4->bs4) (1.9.5)\n",
      "Requirement already satisfied: sklearn in /home/ivan/anaconda3/envs/tf_gpu/lib/python3.7/site-packages (0.0)\n",
      "Requirement already satisfied: scikit-learn in /home/ivan/anaconda3/envs/tf_gpu/lib/python3.7/site-packages (from sklearn) (0.21.3)\n",
      "Requirement already satisfied: scipy>=0.17.0 in /home/ivan/anaconda3/envs/tf_gpu/lib/python3.7/site-packages (from scikit-learn->sklearn) (1.3.1)\n",
      "Requirement already satisfied: numpy>=1.11.0 in /home/ivan/anaconda3/envs/tf_gpu/lib/python3.7/site-packages (from scikit-learn->sklearn) (1.17.3)\n",
      "Requirement already satisfied: joblib>=0.11 in /home/ivan/anaconda3/envs/tf_gpu/lib/python3.7/site-packages (from scikit-learn->sklearn) (0.14.0)\n",
      "Requirement already satisfied: nltk in /home/ivan/anaconda3/envs/tf_gpu/lib/python3.7/site-packages (3.4.5)\n",
      "Requirement already satisfied: six in /home/ivan/anaconda3/envs/tf_gpu/lib/python3.7/site-packages (from nltk) (1.12.0)\n",
      "Requirement already satisfied: gensim in /home/ivan/anaconda3/envs/tf_gpu/lib/python3.7/site-packages (3.8.1)\n",
      "Requirement already satisfied: smart-open>=1.8.1 in /home/ivan/anaconda3/envs/tf_gpu/lib/python3.7/site-packages (from gensim) (1.9.0)\n",
      "Requirement already satisfied: scipy>=0.18.1 in /home/ivan/anaconda3/envs/tf_gpu/lib/python3.7/site-packages (from gensim) (1.3.1)\n",
      "Requirement already satisfied: numpy>=1.11.3 in /home/ivan/anaconda3/envs/tf_gpu/lib/python3.7/site-packages (from gensim) (1.17.3)\n",
      "Requirement already satisfied: six>=1.5.0 in /home/ivan/anaconda3/envs/tf_gpu/lib/python3.7/site-packages (from gensim) (1.12.0)\n",
      "Requirement already satisfied: boto>=2.32 in /home/ivan/anaconda3/envs/tf_gpu/lib/python3.7/site-packages (from smart-open>=1.8.1->gensim) (2.49.0)\n",
      "Requirement already satisfied: boto3 in /home/ivan/anaconda3/envs/tf_gpu/lib/python3.7/site-packages (from smart-open>=1.8.1->gensim) (1.10.17)\n",
      "Requirement already satisfied: requests in /home/ivan/anaconda3/envs/tf_gpu/lib/python3.7/site-packages (from smart-open>=1.8.1->gensim) (2.20.1)\n",
      "Requirement already satisfied: s3transfer<0.3.0,>=0.2.0 in /home/ivan/anaconda3/envs/tf_gpu/lib/python3.7/site-packages (from boto3->smart-open>=1.8.1->gensim) (0.2.1)\n",
      "Requirement already satisfied: botocore<1.14.0,>=1.13.17 in /home/ivan/anaconda3/envs/tf_gpu/lib/python3.7/site-packages (from boto3->smart-open>=1.8.1->gensim) (1.13.17)\n",
      "Requirement already satisfied: jmespath<1.0.0,>=0.7.1 in /home/ivan/anaconda3/envs/tf_gpu/lib/python3.7/site-packages (from boto3->smart-open>=1.8.1->gensim) (0.9.4)\n",
      "Requirement already satisfied: chardet<3.1.0,>=3.0.2 in /home/ivan/anaconda3/envs/tf_gpu/lib/python3.7/site-packages (from requests->smart-open>=1.8.1->gensim) (3.0.4)\n",
      "Requirement already satisfied: urllib3<1.25,>=1.21.1 in /home/ivan/anaconda3/envs/tf_gpu/lib/python3.7/site-packages (from requests->smart-open>=1.8.1->gensim) (1.24.3)\n",
      "Requirement already satisfied: idna<2.8,>=2.5 in /home/ivan/anaconda3/envs/tf_gpu/lib/python3.7/site-packages (from requests->smart-open>=1.8.1->gensim) (2.7)\n",
      "Requirement already satisfied: certifi>=2017.4.17 in /home/ivan/anaconda3/envs/tf_gpu/lib/python3.7/site-packages (from requests->smart-open>=1.8.1->gensim) (2019.9.11)\n",
      "Requirement already satisfied: python-dateutil<2.8.1,>=2.1; python_version >= \"2.7\" in /home/ivan/anaconda3/envs/tf_gpu/lib/python3.7/site-packages (from botocore<1.14.0,>=1.13.17->boto3->smart-open>=1.8.1->gensim) (2.8.0)\n",
      "Requirement already satisfied: docutils<0.16,>=0.10 in /home/ivan/anaconda3/envs/tf_gpu/lib/python3.7/site-packages (from botocore<1.14.0,>=1.13.17->boto3->smart-open>=1.8.1->gensim) (0.15.2)\n",
      "Requirement already satisfied: lxml in /home/ivan/anaconda3/envs/tf_gpu/lib/python3.7/site-packages (4.4.1)\n"
     ]
    }
   ],
   "source": [
    "!pip install bs4\n",
    "!pip install sklearn\n",
    "!pip install nltk\n",
    "!pip install gensim\n",
    "!pip install lxml"
   ]
  },
  {
   "cell_type": "markdown",
   "metadata": {
    "colab_type": "text",
    "id": "L2yp5xfI15HJ"
   },
   "source": [
    "Now we can import some libraries that we will use:"
   ]
  },
  {
   "cell_type": "code",
   "execution_count": 2,
   "metadata": {
    "colab": {},
    "colab_type": "code",
    "id": "aCtMQEnRQjhV"
   },
   "outputs": [
    {
     "ename": "ModuleNotFoundError",
     "evalue": "No module named 'gensim'",
     "output_type": "error",
     "traceback": [
      "\u001b[0;31m---------------------------------------------------------------------------\u001b[0m",
      "\u001b[0;31mModuleNotFoundError\u001b[0m                       Traceback (most recent call last)",
      "\u001b[0;32m<ipython-input-2-1e5b9a4863e4>\u001b[0m in \u001b[0;36m<module>\u001b[0;34m\u001b[0m\n\u001b[1;32m      3\u001b[0m \u001b[0;32mimport\u001b[0m \u001b[0mnumpy\u001b[0m \u001b[0;32mas\u001b[0m \u001b[0mnp\u001b[0m\u001b[0;34m\u001b[0m\u001b[0;34m\u001b[0m\u001b[0m\n\u001b[1;32m      4\u001b[0m \u001b[0;32mfrom\u001b[0m \u001b[0mnumpy\u001b[0m \u001b[0;32mimport\u001b[0m \u001b[0mrandom\u001b[0m\u001b[0;34m\u001b[0m\u001b[0;34m\u001b[0m\u001b[0m\n\u001b[0;32m----> 5\u001b[0;31m \u001b[0;32mimport\u001b[0m \u001b[0mgensim\u001b[0m\u001b[0;34m\u001b[0m\u001b[0;34m\u001b[0m\u001b[0m\n\u001b[0m\u001b[1;32m      6\u001b[0m \u001b[0;32mimport\u001b[0m \u001b[0mnltk\u001b[0m\u001b[0;34m\u001b[0m\u001b[0;34m\u001b[0m\u001b[0m\n\u001b[1;32m      7\u001b[0m \u001b[0;32mimport\u001b[0m \u001b[0mlxml\u001b[0m\u001b[0;34m\u001b[0m\u001b[0;34m\u001b[0m\u001b[0m\n",
      "\u001b[0;31mModuleNotFoundError\u001b[0m: No module named 'gensim'"
     ]
    }
   ],
   "source": [
    "import logging\n",
    "import pandas as pd\n",
    "import numpy as np\n",
    "from numpy import random\n",
    "import gensim\n",
    "import nltk\n",
    "import lxml\n",
    "from sklearn.model_selection import train_test_split\n",
    "from sklearn.feature_extraction.text import CountVectorizer, TfidfVectorizer\n",
    "from sklearn.metrics import accuracy_score, confusion_matrix, classification_report\n",
    "import matplotlib.pyplot as plt\n",
    "import wget\n",
    "\n",
    "%matplotlib inline"
   ]
  },
  {
   "cell_type": "markdown",
   "metadata": {
    "colab_type": "text",
    "id": "368EVM3_QInK"
   },
   "source": [
    "## TFIDF with logistic regression\n",
    "\n",
    "### Preparing the dataset\n",
    "\n",
    "The classification problem at hand is to predict the tag that belongs to a stack overflow post. The data from Google BigQuery is publicly available at this Cloud Storage URL:\n",
    "\n",
    "https://storage.googleapis.com/tensorflow-workshop-examples/stack-overflow-data.csv.\n",
    " \n",
    " We can read it directly into a pandas dataframe. \n"
   ]
  },
  {
   "cell_type": "code",
   "execution_count": null,
   "metadata": {
    "colab": {},
    "colab_type": "code",
    "id": "dBLM0vEjyarI"
   },
   "outputs": [],
   "source": [
    "url=\"https://storage.googleapis.com/tensorflow-workshop-examples/stack-overflow-data.csv\"\n",
    "df=pd.read_csv(url, encoding='latin-1')"
   ]
  },
  {
   "cell_type": "markdown",
   "metadata": {
    "colab_type": "text",
    "id": "JMzTr6hCQInM"
   },
   "source": [
    "Let's start by having a look at our data: "
   ]
  },
  {
   "cell_type": "code",
   "execution_count": null,
   "metadata": {
    "colab": {},
    "colab_type": "code",
    "id": "3758TYmIQInQ"
   },
   "outputs": [],
   "source": [
    "# only keep data that has a tag (is labeled): \n",
    "df=df[pd.notnull(df['tags'])]\n",
    "\n",
    "# display first ten rows:\n",
    "df.head(10)"
   ]
  },
  {
   "cell_type": "markdown",
   "metadata": {
    "colab_type": "text",
    "id": "13ECXgs-xn9p"
   },
   "source": [
    "The size of our model will depend on how many unqiue words are in the dataset (meaning in the article text or posts): "
   ]
  },
  {
   "cell_type": "code",
   "execution_count": null,
   "metadata": {
    "colab": {},
    "colab_type": "code",
    "id": "BvAXbtE5QInW"
   },
   "outputs": [],
   "source": [
    "# Count the number of words: \n",
    "df['post'].apply(lambda x:len(x.split(' '))).sum()"
   ]
  },
  {
   "cell_type": "markdown",
   "metadata": {
    "colab_type": "text",
    "id": "LSifacVqQIna"
   },
   "source": [
    "We have over 10 million words in the data. That's a lot! \n",
    "\n",
    "\n",
    "Let's visualise our dataset: \n",
    "\n"
   ]
  },
  {
   "cell_type": "code",
   "execution_count": null,
   "metadata": {
    "colab": {},
    "colab_type": "code",
    "id": "O-DdZVX9QInb"
   },
   "outputs": [],
   "source": [
    "# visualising dataset\n",
    "plt.figure(figsize=(10,4))\n",
    "df.tags.value_counts().plot(kind='bar')"
   ]
  },
  {
   "cell_type": "markdown",
   "metadata": {
    "colab_type": "text",
    "id": "5UwHhJXMQIng"
   },
   "source": [
    "As you can see, the classes are very well balanced.\n",
    "\n",
    "Now let's have a look at the data of the posts ('post' columns) in more detail: "
   ]
  },
  {
   "cell_type": "code",
   "execution_count": null,
   "metadata": {
    "colab": {},
    "colab_type": "code",
    "id": "2Q3m4GxxQInh"
   },
   "outputs": [],
   "source": [
    "print(df['post'].values[10])"
   ]
  },
  {
   "cell_type": "markdown",
   "metadata": {
    "colab_type": "text",
    "id": "nbSGI0FQQInu"
   },
   "source": [
    "As you can see, the text needs to be cleaned up a bit. Below we use the nltk toolkit to remove spaces, html tags, stopwords, symbols etc. Below we define a function to remove stop words, replace / \\ and other symbols with spaces, ..."
   ]
  },
  {
   "cell_type": "code",
   "execution_count": null,
   "metadata": {
    "colab": {
     "base_uri": "https://localhost:8080/",
     "height": 51
    },
    "colab_type": "code",
    "id": "bydjpKCBQInv",
    "outputId": "38fec446-a11d-4e74-81de-8cb4060bc1d3"
   },
   "outputs": [],
   "source": [
    "# note: slower students may wish to skip this step to finish the lab in class\n",
    "from nltk.corpus import stopwords\n",
    "import re\n",
    "from bs4 import BeautifulSoup\n",
    "\n",
    "# load a list of stop words\n",
    "nltk.download('stopwords')\n",
    "\n",
    "\n",
    "REPLACE_BY_SPACE_RE = re.compile('[/(){}\\[\\]\\|@,;]')\n",
    "BAD_SYMBOLS_RE = re.compile('[^0-9a-z #+_]')\n",
    "STOPWORDS = set(stopwords.words('english'))\n",
    "\n",
    "def clean_text(text):\n",
    "    \"\"\"\n",
    "        text: a string \n",
    "        return: modified initial string\n",
    "    \"\"\"\n",
    "    text = BeautifulSoup(text, 'html.parser').text # HTML decoding\n",
    "    text = text.lower() # lowercase text\n",
    "    text = REPLACE_BY_SPACE_RE.sub(' ', text) # replace REPLACE_BY_SPACE_RE symbols by space in text\n",
    "    text = BAD_SYMBOLS_RE.sub('', text) # delete symbols which are in BAD_SYMBOLS_RE from text\n",
    "    text = ' '.join(word for word in text.split() if word not in STOPWORDS) # delete stopwors from text\n",
    "    return text"
   ]
  },
  {
   "cell_type": "markdown",
   "metadata": {
    "colab_type": "text",
    "id": "SiiOIj3L_NDH"
   },
   "source": [
    "Now we can apply the newly defined function on the column of df 'post'. "
   ]
  },
  {
   "cell_type": "code",
   "execution_count": null,
   "metadata": {
    "colab": {},
    "colab_type": "code",
    "id": "6A8nlP0hQInx"
   },
   "outputs": [],
   "source": [
    "df['post']=df['post'].apply(clean_text)"
   ]
  },
  {
   "cell_type": "markdown",
   "metadata": {
    "colab_type": "text",
    "id": "AkBB_8za_SE5"
   },
   "source": [
    "Let's check the results: "
   ]
  },
  {
   "cell_type": "code",
   "execution_count": null,
   "metadata": {
    "colab": {},
    "colab_type": "code",
    "id": "MlL2uGKsQIn0"
   },
   "outputs": [],
   "source": [
    "print(df['post'].values[10])"
   ]
  },
  {
   "cell_type": "markdown",
   "metadata": {
    "colab_type": "text",
    "id": "YTkqUfwzQIn8"
   },
   "source": [
    "This looks a lot better!\n",
    "\n",
    "Now how many unique words do we have in this cleaned up dataset? "
   ]
  },
  {
   "cell_type": "code",
   "execution_count": null,
   "metadata": {
    "colab": {},
    "colab_type": "code",
    "id": "4oV5baXxQIn8",
    "scrolled": true
   },
   "outputs": [],
   "source": [
    "df['post'].apply(lambda x:len(x.split(' '))).sum()"
   ]
  },
  {
   "cell_type": "markdown",
   "metadata": {
    "colab_type": "text",
    "id": "gpllc3QyQIoA"
   },
   "source": [
    "Now we have over 3 million words to work with.\n",
    "\n",
    "Before we start creating some classifiers, let's split our dataset in a test set (for evaluation) and training set: "
   ]
  },
  {
   "cell_type": "code",
   "execution_count": null,
   "metadata": {
    "colab": {},
    "colab_type": "code",
    "id": "ylA7e4H_QIoB"
   },
   "outputs": [],
   "source": [
    "X=df.post\n",
    "y=df.tags\n",
    "X_train, X_test, y_train, y_test=train_test_split(X, y, test_size=0.3, random_state=True)"
   ]
  },
  {
   "cell_type": "markdown",
   "metadata": {
    "colab_type": "text",
    "id": "cDHptCZqQIoU"
   },
   "source": [
    "### Logistic regression\n",
    "\n",
    "Now that we have our features, we can train a classifier to try to predict the tag of a post. We will start with logistic regression and TFIDF representation which provides a nice baseline for this task. \n",
    "\n",
    "To make the vectorizer => transformer => classifier easier to work with, we will use Pipeline class in Scikit-Learn that behaves like a compound classifier."
   ]
  },
  {
   "cell_type": "code",
   "execution_count": null,
   "metadata": {
    "colab": {},
    "colab_type": "code",
    "id": "p8IMmMZWQIoV"
   },
   "outputs": [],
   "source": [
    "from sklearn.linear_model import LogisticRegression \n",
    "from sklearn.pipeline import Pipeline \n",
    "from sklearn.feature_extraction.text import TfidfTransformer# we define a Pipeline, which first represents our features as TFID\n",
    "# Then performs logistic regression\n",
    "logreg=Pipeline([('vect', CountVectorizer()),('tfidf', TfidfTransformer()),('clf', LogisticRegression(n_jobs=1, C=1e5)),])\n",
    "logreg.fit(X_train, y_train)"
   ]
  },
  {
   "cell_type": "markdown",
   "metadata": {
    "colab_type": "text",
    "id": "plgMq5lA27-_"
   },
   "source": [
    "How well does it work? "
   ]
  },
  {
   "cell_type": "code",
   "execution_count": null,
   "metadata": {
    "colab": {
     "base_uri": "https://localhost:8080/",
     "height": 34
    },
    "colab_type": "code",
    "id": "ZGSVTzWRQIoY",
    "outputId": "a4b4ba61-f6c4-4fe6-9e3c-b6149b5b4a52"
   },
   "outputs": [],
   "source": [
    "# to show the computation time: \n",
    "%time\n",
    "y_pred=logreg.predict(X_test)\n",
    "print('accuracy%s'%accuracy_score(y_pred, y_test))\n",
    "print(classification_report(y_test, y_pred))"
   ]
  },
  {
   "cell_type": "markdown",
   "metadata": {
    "colab_type": "text",
    "id": "zAAVJw44xn_c"
   },
   "source": [
    "That's quite a good accuracy. Now let's see if we can combine word2vec with logistic regression by feeding the new embedded representation to our logistic regression instead of the bag of words. "
   ]
  },
  {
   "cell_type": "markdown",
   "metadata": {
    "colab_type": "text",
    "id": "9gSX1ysMQIoc"
   },
   "source": [
    "## Word2vec embedding and Logistic Regression"
   ]
  },
  {
   "cell_type": "markdown",
   "metadata": {
    "colab_type": "text",
    "id": "Ubl-sOB8W2f1"
   },
   "source": [
    "Let's load a pretrained word2vec model, and use the embedding representation as input to a simple classifier (i.e. logistic regression). \n",
    "\n",
    "You can use the word2vec model you trained in lab 10a, or load this (quite big, 1.5GB) pretrained word2vec model: https://s3.amazonaws.com/dl4j-distribution/GoogleNews-vectors-negative300.bin.gz\n",
    "\n",
    "Note: it can take a while to load. (takes 2min for me) "
   ]
  },
  {
   "cell_type": "code",
   "execution_count": null,
   "metadata": {
    "colab": {},
    "colab_type": "code",
    "id": "KgU9iEDo0h7c"
   },
   "outputs": [],
   "source": [
    "!wget \"https://s3.amazonaws.com/dl4j-distribution/GoogleNews-vectors-negative300.bin.gz\""
   ]
  },
  {
   "cell_type": "markdown",
   "metadata": {
    "colab_type": "text",
    "id": "-pM8IWFy0jDH"
   },
   "source": [
    "Once the file is on your system: "
   ]
  },
  {
   "cell_type": "code",
   "execution_count": null,
   "metadata": {
    "colab": {},
    "colab_type": "code",
    "id": "Cjipngb9QIod"
   },
   "outputs": [],
   "source": []
  },
  {
   "cell_type": "markdown",
   "metadata": {
    "colab_type": "text",
    "id": "E-W7lH8wxn_2"
   },
   "source": [
    "If you are interested how good these pretrained embeddings are, you could try some of the similarity tests we did in Lab 10a. "
   ]
  },
  {
   "cell_type": "markdown",
   "metadata": {
    "colab_type": "text",
    "id": "mC4XwSuzQIoo"
   },
   "source": [
    "As we have multiple words for each post, we will need to somehow combine them. A common way to achieve this is by averaging the\n",
    "word vectors per document. It could also be summation or weighted addition. The function below takes as input a list of words and the w2v model wv. Then it retrieves the vector embeddings for each of the words and averages them. "
   ]
  },
  {
   "cell_type": "code",
   "execution_count": null,
   "metadata": {
    "colab": {},
    "colab_type": "code",
    "id": "lbSLtiwyQIoo"
   },
   "outputs": [],
   "source": [
    "def word_averaging(wv, words):\n",
    "    # averages a set of words 'words' given their wordvectors 'wv'\n",
    "    \n",
    "    all_words, mean = set(), []\n",
    "    \n",
    "    # for each word in the list of words\n",
    "    for word in words:\n",
    "        # if the words are alread vectors, then just append them\n",
    "        if isinstance(word, np.ndarray):\n",
    "            mean.append(word)\n",
    "        # if not: first get the vector embedding for the words\n",
    "        elif word in wv.vocab:\n",
    "            mean.append(wv.syn0norm[wv.vocab[word].index])\n",
    "            all_words.add(wv.vocab[word].index)\n",
    "\n",
    "    \n",
    "    if not mean:\n",
    "        # error handling in case mean cannot be calculated\n",
    "        logging.warning(\"cannot compute similarity with no input %s\", words)\n",
    "        return np.zeros(wv.vector_size,)\n",
    "\n",
    "    # use gensim's method to calculate the mean of all the words appended to mean list\n",
    "    mean = gensim.matutils.unitvec(np.array(mean).mean(axis=0)).astype(np.float32)\n",
    "    return mean\n",
    "\n",
    "def  word_averaging_list(wv, text_list):\n",
    "    return np.vstack([word_averaging(wv, post) for post in text_list ])"
   ]
  },
  {
   "cell_type": "markdown",
   "metadata": {
    "colab_type": "text",
    "id": "Tm_febK-xoAC"
   },
   "source": [
    "Below, we explore a different way to create tokens out of sentences, by using the nltk toolkit. "
   ]
  },
  {
   "cell_type": "code",
   "execution_count": null,
   "metadata": {
    "colab": {},
    "colab_type": "code",
    "id": "jlyXtYm1QIos"
   },
   "outputs": [],
   "source": []
  },
  {
   "cell_type": "markdown",
   "metadata": {
    "colab_type": "text",
    "id": "ZeuQn-3GxoAQ"
   },
   "source": [
    "Let's split the dataset in training and test set like before, and tokenize each of the datasets"
   ]
  },
  {
   "cell_type": "code",
   "execution_count": null,
   "metadata": {
    "colab": {},
    "colab_type": "code",
    "id": "CA1Wrn9-QIot"
   },
   "outputs": [],
   "source": []
  },
  {
   "cell_type": "markdown",
   "metadata": {
    "colab_type": "text",
    "id": "rh11CM3ZxoAa"
   },
   "source": [
    "We can then average the position per post in this new dataset using the functions we defined above and based on our word2vec model wv."
   ]
  },
  {
   "cell_type": "code",
   "execution_count": null,
   "metadata": {
    "colab": {},
    "colab_type": "code",
    "id": "pqG34rU6QIoy"
   },
   "outputs": [],
   "source": []
  },
  {
   "cell_type": "markdown",
   "metadata": {
    "colab_type": "text",
    "id": "3zQa7btkxoAj"
   },
   "source": [
    "Now we can feed this new representation into the logistic regression: "
   ]
  },
  {
   "cell_type": "code",
   "execution_count": null,
   "metadata": {
    "colab": {},
    "colab_type": "code",
    "id": "LSSSuFQYQIo5"
   },
   "outputs": [],
   "source": []
  },
  {
   "cell_type": "markdown",
   "metadata": {
    "colab_type": "text",
    "id": "7fy9vOz44h9p"
   },
   "source": [
    "How accurate is this averaged word2vec model with logistic regression?"
   ]
  },
  {
   "cell_type": "code",
   "execution_count": null,
   "metadata": {
    "colab": {},
    "colab_type": "code",
    "id": "U_WzSihIQIo9"
   },
   "outputs": [],
   "source": []
  },
  {
   "cell_type": "markdown",
   "metadata": {
    "colab_type": "text",
    "id": "cNXuL03bxoAy"
   },
   "source": [
    "Now you can see that the accuracy went down! Oh no! Why is that? Because we used a very naive approach, to average our vectors. The way around it would be doc2vec, which learns relationships between documents (posts in this case), instead of words. The accuracy could also improve by using a different classifier instead of logistic regression, or by changing the aggregation strategy. "
   ]
  },
  {
   "cell_type": "markdown",
   "metadata": {
    "colab_type": "text",
    "id": "qtujiFgzQIpA"
   },
   "source": [
    "## Doc2vec and Logistic Regression (advanced)\n",
    "\n",
    "The idea of word2vec can be extended to documents whereby instead of learning feature representations for words, we learn it for sentences or documents. To get a general idea of a word2vec, think of it as a mathematical average of the word vector representations of all the words in the document. Doc2Vec extends the idea of word2vec, however words can only capture so much, there are times when we need relationships between documents and not just words.\n",
    "\n",
    "The way to train doc2vec model for our Stack Overflow questions and tags data is very similar with when we trained multi-class text classification with word2vec and logistic regression above.\n",
    "\n",
    "First, we label the sentences. Gensim’s Doc2Vec implementation requires each document/paragraph to have a label associated with it that indicates if it's part of the test or training set. We do this by using the TaggedDocument method. The format will be “TRAIN_i” or “TEST_i” where “i” is a dummy index of the post.\n",
    "\n",
    "First let's import the necessary libraries. \n"
   ]
  },
  {
   "cell_type": "code",
   "execution_count": null,
   "metadata": {
    "colab": {},
    "colab_type": "code",
    "id": "qkXdv0A6QIpB"
   },
   "outputs": [],
   "source": [
    "from tqdm import tqdm\n",
    "from gensim.models import doc2vec\n",
    "from sklearn import utils\n",
    "import gensim\n",
    "from gensim.models.doc2vec import TaggedDocument\n",
    "import re"
   ]
  },
  {
   "cell_type": "markdown",
   "metadata": {
    "colab_type": "text",
    "id": "cBov76MXxoA8"
   },
   "source": [
    "Let's start by defining a function that labels our documents in the corpus. We just give them dummy labels TRAIN_i or TEST_i for post i. Given a corpus and labels, we return a variable that includes a label indicating if it's test or training data. "
   ]
  },
  {
   "cell_type": "code",
   "execution_count": null,
   "metadata": {
    "colab": {},
    "colab_type": "code",
    "id": "TtVzwM8RQIpD"
   },
   "outputs": [],
   "source": [
    "def label_sentences(corpus, label_type):\n",
    "    \"\"\"\n",
    "    Gensim's Doc2Vec implementation requires each document/paragraph to have a label associated with it.\n",
    "    We do this by using the TaggedDocument method. The format will be \"TRAIN_i\" or \"TEST_i\" where \"i\" is\n",
    "    a dummy index of the post.\n",
    "    \"\"\"\n",
    "  \n",
    "\n",
    "\n",
    "\n",
    "  \n",
    "    return labeled"
   ]
  },
  {
   "cell_type": "markdown",
   "metadata": {
    "colab_type": "text",
    "id": "5lsDfgBnxoBC"
   },
   "source": [
    "Just like above we split our dataset up in test and training data."
   ]
  },
  {
   "cell_type": "code",
   "execution_count": null,
   "metadata": {
    "colab": {},
    "colab_type": "code",
    "id": "GfXghWoJQIpF"
   },
   "outputs": [],
   "source": []
  },
  {
   "cell_type": "markdown",
   "metadata": {
    "colab_type": "text",
    "id": "A_KYhbHmxoBI"
   },
   "source": [
    "Let's have a look how our data looks at this moment: "
   ]
  },
  {
   "cell_type": "code",
   "execution_count": null,
   "metadata": {
    "colab": {},
    "colab_type": "code",
    "id": "321apZFWQIpI"
   },
   "outputs": [],
   "source": []
  },
  {
   "cell_type": "markdown",
   "metadata": {
    "colab_type": "text",
    "id": "GvY-IsHNxoBQ"
   },
   "source": [
    "Gensim allows us to build a model very easily. We can vary the parameters to fit your data: \n",
    "\n",
    "*    dm=0 , distributed bag of words (DBOW) is used.\n",
    "*    vector_size=300 , 300 vector dimensional feature vectors.\n",
    "*    negative=5 , specifies how many “noise words” should be drawn.\n",
    "*    min_count=1, ignores all words with total frequency lower than this.\n",
    "*    alpha=0.065 , the initial learning rate.\n",
    "\n",
    "We initialize the model and train for 30 epochs. (slower computers may want to train for less epochs). Be sure to set your runtime to TPU/GPU hardware acceleration! Maybe test with a lower amount of epochs first to see how high you can go during class time!\n",
    "\n"
   ]
  },
  {
   "cell_type": "code",
   "execution_count": null,
   "metadata": {
    "colab": {},
    "colab_type": "code",
    "id": "G9UoqpKnQIpM"
   },
   "outputs": [],
   "source": []
  },
  {
   "cell_type": "code",
   "execution_count": null,
   "metadata": {
    "colab": {},
    "colab_type": "code",
    "id": "lSDy4huyQIpP"
   },
   "outputs": [],
   "source": []
  },
  {
   "cell_type": "markdown",
   "metadata": {
    "colab_type": "text",
    "id": "mNp4a3ouxoB5"
   },
   "source": [
    "Now let's define a function to the vectors out of this trained  model, so that we can feed them into the logistic regression:"
   ]
  },
  {
   "cell_type": "code",
   "execution_count": null,
   "metadata": {
    "colab": {},
    "colab_type": "code",
    "id": "A6cGBFuRQIpT"
   },
   "outputs": [],
   "source": [
    "def get_vectors(model, corpus_size, vectors_size, vectors_type):\n",
    "    \"\"\"\n",
    "    Get vectors from trained doc2vec model\n",
    "    :param doc2vec_model: Trained Doc2Vec model\n",
    "    :param corpus_size: Size of the data\n",
    "    :param vectors_size: Size of the embedding vectors\n",
    "    :param vectors_type: Training or Testing vectors\n",
    "    :return: list of vectors\n",
    "    \"\"\"\n",
    "    \n",
    "\n",
    "\n",
    "\n",
    "\n",
    "    \n",
    "    return vectors"
   ]
  },
  {
   "cell_type": "markdown",
   "metadata": {
    "colab_type": "text",
    "id": "cgOEdSpS7nTW"
   },
   "source": [
    "We can use this function to create a vectorised training and test set with 1 entry per document for the input in classification models such as logistic regression. "
   ]
  },
  {
   "cell_type": "code",
   "execution_count": null,
   "metadata": {
    "colab": {},
    "colab_type": "code",
    "id": "57wLrRE3QIpX"
   },
   "outputs": [],
   "source": []
  },
  {
   "cell_type": "markdown",
   "metadata": {
    "colab_type": "text",
    "id": "WJE2ZeuOxoCD"
   },
   "source": [
    "We can now feed these vectors to the classifier again: "
   ]
  },
  {
   "cell_type": "code",
   "execution_count": null,
   "metadata": {
    "colab": {},
    "colab_type": "code",
    "id": "NoLo0XkeQIpa"
   },
   "outputs": [],
   "source": []
  },
  {
   "cell_type": "markdown",
   "metadata": {
    "colab_type": "text",
    "id": "GqmumA0-xoCV"
   },
   "source": [
    "80%, that is the best result so far! Remember, we can actually use any classifier with this method! So up to you to make your project as efficient as possible :)\n",
    "\n",
    "Try using a different classifiers, e.g. Decision tree or SVM. Does that influence the results? \n",
    "\n",
    "\n",
    "    \n",
    "New methods are coming out every day in the field of data science. Just at the end of August 2019, the first implementation of BERT for document classfication was published: DocBERT: https://arxiv.org/abs/1904.08398"
   ]
  },
  {
   "cell_type": "markdown",
   "metadata": {
    "colab_type": "text",
    "id": "jvthUI_yxoCg"
   },
   "source": [
    "## References\n",
    "\n",
    "* https://radimrehurek.com/gensim/models/word2vec.html\n",
    "* https://towardsdatascience.com/multi-class-text-classification-model-comparison-and-selection-5eb066197568\n",
    "* https://github.com/kavgan/nlp-text-mining-working-examples/tree/master/word2vec\n",
    "* https://medium.com/@mishra.thedeepak/doc2vec-simple-implementation-example-df2afbbfbad5]"
   ]
  }
 ],
 "metadata": {
  "accelerator": "TPU",
  "colab": {
   "collapsed_sections": [],
   "name": "lab10b_empty.ipynb",
   "provenance": []
  },
  "kernelspec": {
   "display_name": "Python 3",
   "language": "python",
   "name": "python3"
  },
  "language_info": {
   "codemirror_mode": {
    "name": "ipython",
    "version": 3
   },
   "file_extension": ".py",
   "mimetype": "text/x-python",
   "name": "python",
   "nbconvert_exporter": "python",
   "pygments_lexer": "ipython3",
   "version": "3.7.4"
  }
 },
 "nbformat": 4,
 "nbformat_minor": 1
}
