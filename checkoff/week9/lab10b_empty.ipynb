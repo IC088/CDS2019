{
 "cells": [
  {
   "cell_type": "markdown",
   "metadata": {
    "colab_type": "text",
    "id": "HAA2XCLSQInJ"
   },
   "source": [
    "## Classification with word2vec \n",
    "\n",
    "-- Prof. Dorien Herremans\n",
    "\n",
    "We will be tackling a classification problem by first creating word embeddings, and comparing this to alternative approaches. \n",
    "\n",
    "During this tutorial, you will need some of the following libraries, let's install them first if you don't have them: "
   ]
  },
  {
   "cell_type": "code",
   "execution_count": 6,
   "metadata": {
    "colab": {},
    "colab_type": "code",
    "id": "O0AHw5vB1yOT"
   },
   "outputs": [
    {
     "name": "stdout",
     "output_type": "stream",
     "text": [
      "Requirement already satisfied: bs4 in c:\\users\\asus\\anaconda3\\envs\\tf_gpu\\lib\\site-packages (0.0.1)\n",
      "Requirement already satisfied: beautifulsoup4 in c:\\users\\asus\\anaconda3\\envs\\tf_gpu\\lib\\site-packages (from bs4) (4.7.1)\n",
      "Requirement already satisfied: soupsieve>=1.2 in c:\\users\\asus\\anaconda3\\envs\\tf_gpu\\lib\\site-packages (from beautifulsoup4->bs4) (1.9.2)\n",
      "Requirement already satisfied: sklearn in c:\\users\\asus\\anaconda3\\envs\\tf_gpu\\lib\\site-packages (0.0)\n",
      "Requirement already satisfied: scikit-learn in c:\\users\\asus\\anaconda3\\envs\\tf_gpu\\lib\\site-packages (from sklearn) (0.21.2)\n",
      "Requirement already satisfied: scipy>=0.17.0 in c:\\users\\asus\\anaconda3\\envs\\tf_gpu\\lib\\site-packages (from scikit-learn->sklearn) (1.2.1)\n",
      "Requirement already satisfied: joblib>=0.11 in c:\\users\\asus\\anaconda3\\envs\\tf_gpu\\lib\\site-packages (from scikit-learn->sklearn) (0.13.2)\n",
      "Requirement already satisfied: numpy>=1.11.0 in c:\\users\\asus\\anaconda3\\envs\\tf_gpu\\lib\\site-packages (from scikit-learn->sklearn) (1.16.4)\n",
      "Requirement already satisfied: nltk in c:\\users\\asus\\anaconda3\\envs\\tf_gpu\\lib\\site-packages (3.4.5)\n",
      "Requirement already satisfied: six in c:\\users\\asus\\anaconda3\\envs\\tf_gpu\\lib\\site-packages (from nltk) (1.12.0)\n",
      "Requirement already satisfied: gensim in c:\\users\\asus\\anaconda3\\envs\\tf_gpu\\lib\\site-packages (3.8.1)\n",
      "Requirement already satisfied: scipy>=0.18.1 in c:\\users\\asus\\anaconda3\\envs\\tf_gpu\\lib\\site-packages (from gensim) (1.2.1)\n",
      "Requirement already satisfied: six>=1.5.0 in c:\\users\\asus\\anaconda3\\envs\\tf_gpu\\lib\\site-packages (from gensim) (1.12.0)\n",
      "Requirement already satisfied: numpy>=1.11.3 in c:\\users\\asus\\anaconda3\\envs\\tf_gpu\\lib\\site-packages (from gensim) (1.16.4)\n",
      "Requirement already satisfied: smart-open>=1.8.1 in c:\\users\\asus\\anaconda3\\envs\\tf_gpu\\lib\\site-packages (from gensim) (1.9.0)\n",
      "Requirement already satisfied: boto3 in c:\\users\\asus\\anaconda3\\envs\\tf_gpu\\lib\\site-packages (from smart-open>=1.8.1->gensim) (1.9.186)\n",
      "Requirement already satisfied: boto>=2.32 in c:\\users\\asus\\anaconda3\\envs\\tf_gpu\\lib\\site-packages (from smart-open>=1.8.1->gensim) (2.49.0)\n",
      "Requirement already satisfied: requests in c:\\users\\asus\\anaconda3\\envs\\tf_gpu\\lib\\site-packages (from smart-open>=1.8.1->gensim) (2.22.0)\n",
      "Requirement already satisfied: botocore<1.13.0,>=1.12.186 in c:\\users\\asus\\anaconda3\\envs\\tf_gpu\\lib\\site-packages (from boto3->smart-open>=1.8.1->gensim) (1.12.186)\n",
      "Requirement already satisfied: jmespath<1.0.0,>=0.7.1 in c:\\users\\asus\\appdata\\roaming\\python\\python37\\site-packages (from boto3->smart-open>=1.8.1->gensim) (0.9.3)\n",
      "Requirement already satisfied: s3transfer<0.3.0,>=0.2.0 in c:\\users\\asus\\anaconda3\\envs\\tf_gpu\\lib\\site-packages (from boto3->smart-open>=1.8.1->gensim) (0.2.1)\n",
      "Requirement already satisfied: chardet<3.1.0,>=3.0.2 in c:\\users\\asus\\anaconda3\\envs\\tf_gpu\\lib\\site-packages (from requests->smart-open>=1.8.1->gensim) (3.0.4)\n",
      "Requirement already satisfied: idna<2.9,>=2.5 in c:\\users\\asus\\anaconda3\\envs\\tf_gpu\\lib\\site-packages (from requests->smart-open>=1.8.1->gensim) (2.8)\n",
      "Requirement already satisfied: urllib3!=1.25.0,!=1.25.1,<1.26,>=1.21.1 in c:\\users\\asus\\anaconda3\\envs\\tf_gpu\\lib\\site-packages (from requests->smart-open>=1.8.1->gensim) (1.25.3)\n",
      "Requirement already satisfied: certifi>=2017.4.17 in c:\\users\\asus\\anaconda3\\envs\\tf_gpu\\lib\\site-packages (from requests->smart-open>=1.8.1->gensim) (2019.9.11)\n",
      "Requirement already satisfied: python-dateutil<3.0.0,>=2.1; python_version >= \"2.7\" in c:\\users\\asus\\anaconda3\\envs\\tf_gpu\\lib\\site-packages (from botocore<1.13.0,>=1.12.186->boto3->smart-open>=1.8.1->gensim) (2.8.0)\n",
      "Requirement already satisfied: docutils>=0.10 in c:\\users\\asus\\anaconda3\\envs\\tf_gpu\\lib\\site-packages (from botocore<1.13.0,>=1.12.186->boto3->smart-open>=1.8.1->gensim) (0.14)\n",
      "Requirement already satisfied: lxml in c:\\users\\asus\\anaconda3\\envs\\tf_gpu\\lib\\site-packages (4.4.1)\n",
      "Collecting wget\n",
      "  Downloading https://files.pythonhosted.org/packages/47/6a/62e288da7bcda82b935ff0c6cfe542970f04e29c756b0e147251b2fb251f/wget-3.2.zip\n",
      "Building wheels for collected packages: wget\n",
      "  Building wheel for wget (setup.py): started\n",
      "  Building wheel for wget (setup.py): finished with status 'done'\n",
      "  Stored in directory: C:\\Users\\Asus\\AppData\\Local\\pip\\Cache\\wheels\\40\\15\\30\\7d8f7cea2902b4db79e3fea550d7d7b85ecb27ef992b618f3f\n",
      "Successfully built wget\n",
      "Installing collected packages: wget\n",
      "Successfully installed wget-3.2\n"
     ]
    }
   ],
   "source": [
    "!pip install bs4 \n",
    "!pip install sklearn\n",
    "!pip install nltk\n",
    "!pip install gensim\n",
    "!pip install lxml\n",
    "!pip install wget"
   ]
  },
  {
   "cell_type": "markdown",
   "metadata": {
    "colab_type": "text",
    "id": "L2yp5xfI15HJ"
   },
   "source": [
    "Now we can import some libraries that we will use:"
   ]
  },
  {
   "cell_type": "code",
   "execution_count": 9,
   "metadata": {
    "colab": {},
    "colab_type": "code",
    "id": "aCtMQEnRQjhV"
   },
   "outputs": [],
   "source": [
    "import logging\n",
    "import pandas as pd\n",
    "import numpy as np\n",
    "from numpy import random\n",
    "import gensim\n",
    "import nltk\n",
    "import lxml\n",
    "from sklearn.model_selection import train_test_split\n",
    "from sklearn.feature_extraction.text import CountVectorizer, TfidfVectorizer\n",
    "from sklearn.metrics import accuracy_score, confusion_matrix, classification_report\n",
    "import matplotlib.pyplot as plt\n",
    "import wget\n",
    "\n",
    "%matplotlib inline"
   ]
  },
  {
   "cell_type": "markdown",
   "metadata": {
    "colab_type": "text",
    "id": "368EVM3_QInK"
   },
   "source": [
    "## TFIDF with logistic regression\n",
    "\n",
    "### Preparing the dataset\n",
    "\n",
    "The classification problem at hand is to predict the tag that belongs to a stack overflow post. The data from Google BigQuery is publicly available at this Cloud Storage URL:\n",
    "\n",
    "https://storage.googleapis.com/tensorflow-workshop-examples/stack-overflow-data.csv.\n",
    " \n",
    " We can read it directly into a pandas dataframe. \n"
   ]
  },
  {
   "cell_type": "code",
   "execution_count": 25,
   "metadata": {
    "colab": {},
    "colab_type": "code",
    "id": "dBLM0vEjyarI"
   },
   "outputs": [],
   "source": [
    "url=\"https://storage.googleapis.com/tensorflow-workshop-examples/stack-overflow-data.csv\"\n",
    "df=pd.read_csv(url, encoding='latin-1')"
   ]
  },
  {
   "cell_type": "markdown",
   "metadata": {
    "colab_type": "text",
    "id": "JMzTr6hCQInM"
   },
   "source": [
    "Let's start by having a look at our data: "
   ]
  },
  {
   "cell_type": "code",
   "execution_count": 26,
   "metadata": {
    "colab": {},
    "colab_type": "code",
    "id": "3758TYmIQInQ"
   },
   "outputs": [
    {
     "data": {
      "text/html": [
       "<div>\n",
       "<style scoped>\n",
       "    .dataframe tbody tr th:only-of-type {\n",
       "        vertical-align: middle;\n",
       "    }\n",
       "\n",
       "    .dataframe tbody tr th {\n",
       "        vertical-align: top;\n",
       "    }\n",
       "\n",
       "    .dataframe thead th {\n",
       "        text-align: right;\n",
       "    }\n",
       "</style>\n",
       "<table border=\"1\" class=\"dataframe\">\n",
       "  <thead>\n",
       "    <tr style=\"text-align: right;\">\n",
       "      <th></th>\n",
       "      <th>post</th>\n",
       "      <th>tags</th>\n",
       "    </tr>\n",
       "  </thead>\n",
       "  <tbody>\n",
       "    <tr>\n",
       "      <th>0</th>\n",
       "      <td>what is causing this behavior  in our c# datet...</td>\n",
       "      <td>c#</td>\n",
       "    </tr>\n",
       "    <tr>\n",
       "      <th>1</th>\n",
       "      <td>have dynamic html load as if it was in an ifra...</td>\n",
       "      <td>asp.net</td>\n",
       "    </tr>\n",
       "    <tr>\n",
       "      <th>2</th>\n",
       "      <td>how to convert a float value in to min:sec  i ...</td>\n",
       "      <td>objective-c</td>\n",
       "    </tr>\n",
       "    <tr>\n",
       "      <th>3</th>\n",
       "      <td>.net framework 4 redistributable  just wonderi...</td>\n",
       "      <td>.net</td>\n",
       "    </tr>\n",
       "    <tr>\n",
       "      <th>4</th>\n",
       "      <td>trying to calculate and print the mean and its...</td>\n",
       "      <td>python</td>\n",
       "    </tr>\n",
       "    <tr>\n",
       "      <th>5</th>\n",
       "      <td>how to give alias name for my website  i have ...</td>\n",
       "      <td>asp.net</td>\n",
       "    </tr>\n",
       "    <tr>\n",
       "      <th>6</th>\n",
       "      <td>window.open() returns null in angularjs  it wo...</td>\n",
       "      <td>angularjs</td>\n",
       "    </tr>\n",
       "    <tr>\n",
       "      <th>7</th>\n",
       "      <td>identifying server timeout quickly in iphone  ...</td>\n",
       "      <td>iphone</td>\n",
       "    </tr>\n",
       "    <tr>\n",
       "      <th>8</th>\n",
       "      <td>unknown method key  error in rails 2.3.8 unit ...</td>\n",
       "      <td>ruby-on-rails</td>\n",
       "    </tr>\n",
       "    <tr>\n",
       "      <th>9</th>\n",
       "      <td>from the include  how to show and hide the con...</td>\n",
       "      <td>angularjs</td>\n",
       "    </tr>\n",
       "  </tbody>\n",
       "</table>\n",
       "</div>"
      ],
      "text/plain": [
       "                                                post           tags\n",
       "0  what is causing this behavior  in our c# datet...             c#\n",
       "1  have dynamic html load as if it was in an ifra...        asp.net\n",
       "2  how to convert a float value in to min:sec  i ...    objective-c\n",
       "3  .net framework 4 redistributable  just wonderi...           .net\n",
       "4  trying to calculate and print the mean and its...         python\n",
       "5  how to give alias name for my website  i have ...        asp.net\n",
       "6  window.open() returns null in angularjs  it wo...      angularjs\n",
       "7  identifying server timeout quickly in iphone  ...         iphone\n",
       "8  unknown method key  error in rails 2.3.8 unit ...  ruby-on-rails\n",
       "9  from the include  how to show and hide the con...      angularjs"
      ]
     },
     "execution_count": 26,
     "metadata": {},
     "output_type": "execute_result"
    }
   ],
   "source": [
    "# only keep data that has a tag (is labeled): \n",
    "df=df[pd.notnull(df['tags'])]\n",
    "\n",
    "# display first ten rows:\n",
    "df.head(10)"
   ]
  },
  {
   "cell_type": "markdown",
   "metadata": {
    "colab_type": "text",
    "id": "13ECXgs-xn9p"
   },
   "source": [
    "The size of our model will depend on how many unqiue words are in the dataset (meaning in the article text or posts): "
   ]
  },
  {
   "cell_type": "code",
   "execution_count": 30,
   "metadata": {
    "colab": {},
    "colab_type": "code",
    "id": "BvAXbtE5QInW"
   },
   "outputs": [
    {
     "data": {
      "text/plain": [
       "10286120"
      ]
     },
     "execution_count": 30,
     "metadata": {},
     "output_type": "execute_result"
    }
   ],
   "source": [
    "# Count the number of words: \n",
    "df['post'].apply(lambda x:len(x.split(' '))).sum()"
   ]
  },
  {
   "cell_type": "markdown",
   "metadata": {
    "colab_type": "text",
    "id": "LSifacVqQIna"
   },
   "source": [
    "We have over 10 million words in the data. That's a lot! \n",
    "\n",
    "\n",
    "Let's visualise our dataset: \n",
    "\n"
   ]
  },
  {
   "cell_type": "code",
   "execution_count": 31,
   "metadata": {
    "colab": {},
    "colab_type": "code",
    "id": "O-DdZVX9QInb"
   },
   "outputs": [
    {
     "data": {
      "text/plain": [
       "<matplotlib.axes._subplots.AxesSubplot at 0x184937e7d68>"
      ]
     },
     "execution_count": 31,
     "metadata": {},
     "output_type": "execute_result"
    },
    {
     "data": {
      "image/png": "[encoded data removed]",
      "text/plain": [
       "<Figure size 720x288 with 1 Axes>"
      ]
     },
     "metadata": {
      "needs_background": "light"
     },
     "output_type": "display_data"
    }
   ],
   "source": [
    "# visualising dataset\n",
    "plt.figure(figsize=(10,4))\n",
    "df.tags.value_counts().plot(kind='bar')"
   ]
  },
  {
   "cell_type": "markdown",
   "metadata": {
    "colab_type": "text",
    "id": "5UwHhJXMQIng"
   },
   "source": [
    "As you can see, the classes are very well balanced.\n",
    "\n",
    "Now let's have a look at the data of the posts ('post' columns) in more detail: "
   ]
  },
  {
   "cell_type": "code",
   "execution_count": 32,
   "metadata": {
    "colab": {},
    "colab_type": "code",
    "id": "2Q3m4GxxQInh"
   },
   "outputs": [
    {
     "name": "stdout",
     "output_type": "stream",
     "text": [
      "when we need interface c# <blockquote>    <strong>possible duplicate:</strong><br>   <a href= https://stackoverflow.com/questions/240152/why-would-i-want-to-use-interfaces >why would i want to use interfaces </a>   <a href= https://stackoverflow.com/questions/9451868/why-i-need-interface >why i need interface </a>    </blockquote>     i want to know where and when to use it     for example    <pre><code>interface idemo {  // function prototype  public void show(); }  // first class using the interface class myclass1 : idemo {  public void show()  {   // function body comes here   response.write( i m in myclass );  }  }  // second class using the interface class myclass2 : idemo {  public void show()   {   // function body comes here   response.write( i m in myclass2 );   response.write( so  what  );  } </code></pre>   these two classes has the same function name with different body. this can be even achieved without interface. then why we need an interface where and when to use it\n"
     ]
    }
   ],
   "source": [
    "print(df['post'].values[10])"
   ]
  },
  {
   "cell_type": "markdown",
   "metadata": {
    "colab_type": "text",
    "id": "nbSGI0FQQInu"
   },
   "source": [
    "As you can see, the text needs to be cleaned up a bit. Below we use the nltk toolkit to remove spaces, html tags, stopwords, symbols etc. Below we define a function to remove stop words, replace / \\ and other symbols with spaces, ..."
   ]
  },
  {
   "cell_type": "code",
   "execution_count": 33,
   "metadata": {
    "colab": {
     "base_uri": "https://localhost:8080/",
     "height": 51
    },
    "colab_type": "code",
    "id": "bydjpKCBQInv",
    "outputId": "38fec446-a11d-4e74-81de-8cb4060bc1d3"
   },
   "outputs": [
    {
     "name": "stderr",
     "output_type": "stream",
     "text": [
      "[nltk_data] Downloading package stopwords to\n",
      "[nltk_data]     C:\\Users\\Asus\\AppData\\Roaming\\nltk_data...\n",
      "[nltk_data]   Unzipping corpora\\stopwords.zip.\n"
     ]
    }
   ],
   "source": [
    "# note: slower students may wish to skip this step to finish the lab in class\n",
    "from nltk.corpus import stopwords\n",
    "import re\n",
    "from bs4 import BeautifulSoup\n",
    "\n",
    "# load a list of stop words\n",
    "nltk.download('stopwords')\n",
    "\n",
    "\n",
    "REPLACE_BY_SPACE_RE = re.compile('[/(){}\\[\\]\\|@,;]')\n",
    "BAD_SYMBOLS_RE = re.compile('[^0-9a-z #+_]')\n",
    "STOPWORDS = set(stopwords.words('english'))\n",
    "\n",
    "def clean_text(text):\n",
    "    \"\"\"\n",
    "        text: a string \n",
    "        return: modified initial string\n",
    "    \"\"\"\n",
    "    text = BeautifulSoup(text, 'html.parser').text # HTML decoding\n",
    "    text = text.lower() # lowercase text\n",
    "    text = REPLACE_BY_SPACE_RE.sub(' ', text) # replace REPLACE_BY_SPACE_RE symbols by space in text\n",
    "    text = BAD_SYMBOLS_RE.sub('', text) # delete symbols which are in BAD_SYMBOLS_RE from text\n",
    "    text = ' '.join(word for word in text.split() if word not in STOPWORDS) # delete stopwors from text\n",
    "    return text"
   ]
  },
  {
   "cell_type": "markdown",
   "metadata": {
    "colab_type": "text",
    "id": "SiiOIj3L_NDH"
   },
   "source": [
    "Now we can apply the newly defined function on the column of df 'post'. "
   ]
  },
  {
   "cell_type": "code",
   "execution_count": 34,
   "metadata": {
    "colab": {},
    "colab_type": "code",
    "id": "6A8nlP0hQInx"
   },
   "outputs": [],
   "source": [
    "df['post']=df['post'].apply(clean_text)"
   ]
  },
  {
   "cell_type": "markdown",
   "metadata": {
    "colab_type": "text",
    "id": "AkBB_8za_SE5"
   },
   "source": [
    "Let's check the results: "
   ]
  },
  {
   "cell_type": "code",
   "execution_count": 35,
   "metadata": {
    "colab": {},
    "colab_type": "code",
    "id": "MlL2uGKsQIn0"
   },
   "outputs": [
    {
     "name": "stdout",
     "output_type": "stream",
     "text": [
      "need interface c# possible duplicate would want use interfaces need interface want know use example interface idemo function prototype public void show first class using interface class myclass1 idemo public void show function body comes responsewrite myclass second class using interface class myclass2 idemo public void show function body comes responsewrite myclass2 responsewrite two classes function name different body even achieved without interface need interface use\n"
     ]
    }
   ],
   "source": [
    "print(df['post'].values[10])"
   ]
  },
  {
   "cell_type": "markdown",
   "metadata": {
    "colab_type": "text",
    "id": "YTkqUfwzQIn8"
   },
   "source": [
    "This looks a lot better!\n",
    "\n",
    "Now how many unique words do we have in this cleaned up dataset? "
   ]
  },
  {
   "cell_type": "code",
   "execution_count": 36,
   "metadata": {
    "colab": {},
    "colab_type": "code",
    "id": "4oV5baXxQIn8",
    "scrolled": true
   },
   "outputs": [
    {
     "data": {
      "text/plain": [
       "3424194"
      ]
     },
     "execution_count": 36,
     "metadata": {},
     "output_type": "execute_result"
    }
   ],
   "source": [
    "df['post'].apply(lambda x:len(x.split(' '))).sum()"
   ]
  },
  {
   "cell_type": "markdown",
   "metadata": {
    "colab_type": "text",
    "id": "gpllc3QyQIoA"
   },
   "source": [
    "Now we have over 3 million words to work with.\n",
    "\n",
    "Before we start creating some classifiers, let's split our dataset in a test set (for evaluation) and training set: "
   ]
  },
  {
   "cell_type": "code",
   "execution_count": 37,
   "metadata": {
    "colab": {},
    "colab_type": "code",
    "id": "ylA7e4H_QIoB"
   },
   "outputs": [],
   "source": [
    "X=df.post\n",
    "y=df.tags\n",
    "X_train, X_test, y_train, y_test=train_test_split(X, y, test_size=0.3, random_state=True)"
   ]
  },
  {
   "cell_type": "markdown",
   "metadata": {
    "colab_type": "text",
    "id": "cDHptCZqQIoU"
   },
   "source": [
    "### Logistic regression\n",
    "\n",
    "Now that we have our features, we can train a classifier to try to predict the tag of a post. We will start with logistic regression and TFIDF representation which provides a nice baseline for this task. \n",
    "\n",
    "To make the vectorizer => transformer => classifier easier to work with, we will use Pipeline class in Scikit-Learn that behaves like a compound classifier."
   ]
  },
  {
   "cell_type": "code",
   "execution_count": 40,
   "metadata": {
    "colab": {},
    "colab_type": "code",
    "id": "p8IMmMZWQIoV"
   },
   "outputs": [
    {
     "name": "stderr",
     "output_type": "stream",
     "text": [
      "C:\\Users\\Asus\\Anaconda3\\envs\\tf_gpu\\lib\\site-packages\\sklearn\\linear_model\\logistic.py:432: FutureWarning: Default solver will be changed to 'lbfgs' in 0.22. Specify a solver to silence this warning.\n",
      "  FutureWarning)\n",
      "C:\\Users\\Asus\\Anaconda3\\envs\\tf_gpu\\lib\\site-packages\\sklearn\\linear_model\\logistic.py:469: FutureWarning: Default multi_class will be changed to 'auto' in 0.22. Specify the multi_class option to silence this warning.\n",
      "  \"this warning.\", FutureWarning)\n"
     ]
    },
    {
     "data": {
      "text/plain": [
       "Pipeline(memory=None,\n",
       "         steps=[('vect',\n",
       "                 CountVectorizer(analyzer='word', binary=False,\n",
       "                                 decode_error='strict',\n",
       "                                 dtype=<class 'numpy.int64'>, encoding='utf-8',\n",
       "                                 input='content', lowercase=True, max_df=1.0,\n",
       "                                 max_features=None, min_df=1,\n",
       "                                 ngram_range=(1, 1), preprocessor=None,\n",
       "                                 stop_words=None, strip_accents=None,\n",
       "                                 token_pattern='(?u)\\\\b\\\\w\\\\w+\\\\b',\n",
       "                                 tokenizer=None, vocabulary=None)),\n",
       "                ('tfidf',\n",
       "                 TfidfTransformer(norm='l2', smooth_idf=True,\n",
       "                                  sublinear_tf=False, use_idf=True)),\n",
       "                ('clf',\n",
       "                 LogisticRegression(C=100000.0, class_weight=None, dual=False,\n",
       "                                    fit_intercept=True, intercept_scaling=1,\n",
       "                                    l1_ratio=None, max_iter=100,\n",
       "                                    multi_class='warn', n_jobs=1, penalty='l2',\n",
       "                                    random_state=None, solver='warn',\n",
       "                                    tol=0.0001, verbose=0, warm_start=False))],\n",
       "         verbose=False)"
      ]
     },
     "execution_count": 40,
     "metadata": {},
     "output_type": "execute_result"
    }
   ],
   "source": [
    "from sklearn.linear_model import LogisticRegression \n",
    "from sklearn.pipeline import Pipeline \n",
    "from sklearn.feature_extraction.text import TfidfTransformer# we define a Pipeline, which first represents our features as TFID\n",
    "# Then performs logistic regression\n",
    "logreg=Pipeline([('vect', CountVectorizer()),('tfidf', TfidfTransformer()),('clf', LogisticRegression(n_jobs=1, C=1e5)),])\n",
    "logreg.fit(X_train, y_train)"
   ]
  },
  {
   "cell_type": "markdown",
   "metadata": {
    "colab_type": "text",
    "id": "plgMq5lA27-_"
   },
   "source": [
    "How well does it work? "
   ]
  },
  {
   "cell_type": "code",
   "execution_count": 42,
   "metadata": {
    "colab": {
     "base_uri": "https://localhost:8080/",
     "height": 34
    },
    "colab_type": "code",
    "id": "ZGSVTzWRQIoY",
    "outputId": "a4b4ba61-f6c4-4fe6-9e3c-b6149b5b4a52"
   },
   "outputs": [
    {
     "name": "stdout",
     "output_type": "stream",
     "text": [
      "Wall time: 0 ns\n",
      "accuracy0.7794166666666666\n",
      "               precision    recall  f1-score   support\n",
      "\n",
      "         .net       0.66      0.62      0.64       590\n",
      "      android       0.92      0.90      0.91       611\n",
      "    angularjs       0.98      0.95      0.96       601\n",
      "      asp.net       0.79      0.77      0.78       571\n",
      "            c       0.79      0.81      0.80       562\n",
      "           c#       0.56      0.56      0.56       568\n",
      "          c++       0.77      0.77      0.77       605\n",
      "          css       0.81      0.81      0.81       629\n",
      "         html       0.67      0.72      0.69       604\n",
      "          ios       0.64      0.58      0.61       638\n",
      "       iphone       0.63      0.64      0.64       584\n",
      "         java       0.82      0.84      0.83       578\n",
      "   javascript       0.81      0.78      0.80       634\n",
      "       jquery       0.84      0.86      0.85       600\n",
      "        mysql       0.80      0.77      0.79       602\n",
      "  objective-c       0.63      0.66      0.65       587\n",
      "          php       0.83      0.82      0.83       585\n",
      "       python       0.93      0.92      0.92       614\n",
      "ruby-on-rails       0.95      0.95      0.95       620\n",
      "          sql       0.76      0.82      0.79       617\n",
      "\n",
      "     accuracy                           0.78     12000\n",
      "    macro avg       0.78      0.78      0.78     12000\n",
      " weighted avg       0.78      0.78      0.78     12000\n",
      "\n"
     ]
    }
   ],
   "source": [
    "# to show the computation time: \n",
    "%time\n",
    "y_pred=logreg.predict(X_test)\n",
    "print('accuracy%s'%accuracy_score(y_pred, y_test))\n",
    "print(classification_report(y_test, y_pred))"
   ]
  },
  {
   "cell_type": "markdown",
   "metadata": {
    "colab_type": "text",
    "id": "zAAVJw44xn_c"
   },
   "source": [
    "That's quite a good accuracy. Now let's see if we can combine word2vec with logistic regression by feeding the new embedded representation to our logistic regression instead of the bag of words. "
   ]
  },
  {
   "cell_type": "markdown",
   "metadata": {
    "colab_type": "text",
    "id": "9gSX1ysMQIoc"
   },
   "source": [
    "## Word2vec embedding and Logistic Regression"
   ]
  },
  {
   "cell_type": "markdown",
   "metadata": {
    "colab_type": "text",
    "id": "Ubl-sOB8W2f1"
   },
   "source": [
    "Let's load a pretrained word2vec model, and use the embedding representation as input to a simple classifier (i.e. logistic regression). \n",
    "\n",
    "You can use the word2vec model you trained in lab 10a, or load this (quite big, 1.5GB) pretrained word2vec model: https://s3.amazonaws.com/dl4j-distribution/GoogleNews-vectors-negative300.bin.gz\n",
    "\n",
    "Note: it can take a while to load. (takes 2min for me) "
   ]
  },
  {
   "cell_type": "code",
   "execution_count": 49,
   "metadata": {
    "colab": {},
    "colab_type": "code",
    "id": "KgU9iEDo0h7c"
   },
   "outputs": [
    {
     "name": "stderr",
     "output_type": "stream",
     "text": [
      "'wget' is not recognized as an internal or external command,\n",
      "operable program or batch file.\n"
     ]
    }
   ],
   "source": [
    "!wget \"https://s3.amazonaws.com/dl4j-distribution/GoogleNews-vectors-negative300.bin.gz\""
   ]
  },
  {
   "cell_type": "markdown",
   "metadata": {
    "colab_type": "text",
    "id": "-pM8IWFy0jDH"
   },
   "source": [
    "Once the file is on your system: "
   ]
  },
  {
   "cell_type": "code",
   "execution_count": 0,
   "metadata": {
    "colab": {},
    "colab_type": "code",
    "id": "Cjipngb9QIod"
   },
   "outputs": [],
   "source": []
  },
  {
   "cell_type": "markdown",
   "metadata": {
    "colab_type": "text",
    "id": "E-W7lH8wxn_2"
   },
   "source": [
    "If you are interested how good these pretrained embeddings are, you could try some of the similarity tests we did in Lab 10a. "
   ]
  },
  {
   "cell_type": "markdown",
   "metadata": {
    "colab_type": "text",
    "id": "mC4XwSuzQIoo"
   },
   "source": [
    "As we have multiple words for each post, we will need to somehow combine them. A common way to achieve this is by averaging the\n",
    "word vectors per document. It could also be summation or weighted addition. The function below takes as input a list of words and the w2v model wv. Then it retrieves the vector embeddings for each of the words and averages them. "
   ]
  },
  {
   "cell_type": "code",
   "execution_count": 0,
   "metadata": {
    "colab": {},
    "colab_type": "code",
    "id": "lbSLtiwyQIoo"
   },
   "outputs": [],
   "source": [
    "def word_averaging(wv, words):\n",
    "    # averages a set of words 'words' given their wordvectors 'wv'\n",
    "    \n",
    "    all_words, mean = set(), []\n",
    "    \n",
    "    # for each word in the list of words\n",
    "    for word in words:\n",
    "        # if the words are alread vectors, then just append them\n",
    "        if isinstance(word, np.ndarray):\n",
    "            mean.append(word)\n",
    "        # if not: first get the vector embedding for the words\n",
    "        elif word in wv.vocab:\n",
    "            mean.append(wv.syn0norm[wv.vocab[word].index])\n",
    "            all_words.add(wv.vocab[word].index)\n",
    "\n",
    "    \n",
    "    if not mean:\n",
    "        # error handling in case mean cannot be calculated\n",
    "        logging.warning(\"cannot compute similarity with no input %s\", words)\n",
    "        return np.zeros(wv.vector_size,)\n",
    "\n",
    "    # use gensim's method to calculate the mean of all the words appended to mean list\n",
    "    mean = gensim.matutils.unitvec(np.array(mean).mean(axis=0)).astype(np.float32)\n",
    "    return mean\n",
    "\n",
    "def  word_averaging_list(wv, text_list):\n",
    "    return np.vstack([word_averaging(wv, post) for post in text_list ])"
   ]
  },
  {
   "cell_type": "markdown",
   "metadata": {
    "colab_type": "text",
    "id": "Tm_febK-xoAC"
   },
   "source": [
    "Below, we explore a different way to create tokens out of sentences, by using the nltk toolkit. "
   ]
  },
  {
   "cell_type": "code",
   "execution_count": 0,
   "metadata": {
    "colab": {},
    "colab_type": "code",
    "id": "jlyXtYm1QIos"
   },
   "outputs": [],
   "source": []
  },
  {
   "cell_type": "markdown",
   "metadata": {
    "colab_type": "text",
    "id": "ZeuQn-3GxoAQ"
   },
   "source": [
    "Let's split the dataset in training and test set like before, and tokenize each of the datasets"
   ]
  },
  {
   "cell_type": "code",
   "execution_count": 0,
   "metadata": {
    "colab": {},
    "colab_type": "code",
    "id": "CA1Wrn9-QIot"
   },
   "outputs": [],
   "source": []
  },
  {
   "cell_type": "markdown",
   "metadata": {
    "colab_type": "text",
    "id": "rh11CM3ZxoAa"
   },
   "source": [
    "We can then average the position per post in this new dataset using the functions we defined above and based on our word2vec model wv."
   ]
  },
  {
   "cell_type": "code",
   "execution_count": 0,
   "metadata": {
    "colab": {},
    "colab_type": "code",
    "id": "pqG34rU6QIoy"
   },
   "outputs": [],
   "source": []
  },
  {
   "cell_type": "markdown",
   "metadata": {
    "colab_type": "text",
    "id": "3zQa7btkxoAj"
   },
   "source": [
    "Now we can feed this new representation into the logistic regression: "
   ]
  },
  {
   "cell_type": "code",
   "execution_count": 0,
   "metadata": {
    "colab": {},
    "colab_type": "code",
    "id": "LSSSuFQYQIo5"
   },
   "outputs": [],
   "source": []
  },
  {
   "cell_type": "markdown",
   "metadata": {
    "colab_type": "text",
    "id": "7fy9vOz44h9p"
   },
   "source": [
    "How accurate is this averaged word2vec model with logistic regression?"
   ]
  },
  {
   "cell_type": "code",
   "execution_count": 0,
   "metadata": {
    "colab": {},
    "colab_type": "code",
    "id": "U_WzSihIQIo9"
   },
   "outputs": [],
   "source": []
  },
  {
   "cell_type": "markdown",
   "metadata": {
    "colab_type": "text",
    "id": "cNXuL03bxoAy"
   },
   "source": [
    "Now you can see that the accuracy went down! Oh no! Why is that? Because we used a very naive approach, to average our vectors. The way around it would be doc2vec, which learns relationships between documents (posts in this case), instead of words. The accuracy could also improve by using a different classifier instead of logistic regression, or by changing the aggregation strategy. "
   ]
  },
  {
   "cell_type": "markdown",
   "metadata": {
    "colab_type": "text",
    "id": "qtujiFgzQIpA"
   },
   "source": [
    "## Doc2vec and Logistic Regression (advanced)\n",
    "\n",
    "The idea of word2vec can be extended to documents whereby instead of learning feature representations for words, we learn it for sentences or documents. To get a general idea of a word2vec, think of it as a mathematical average of the word vector representations of all the words in the document. Doc2Vec extends the idea of word2vec, however words can only capture so much, there are times when we need relationships between documents and not just words.\n",
    "\n",
    "The way to train doc2vec model for our Stack Overflow questions and tags data is very similar with when we trained multi-class text classification with word2vec and logistic regression above.\n",
    "\n",
    "First, we label the sentences. Gensim’s Doc2Vec implementation requires each document/paragraph to have a label associated with it that indicates if it's part of the test or training set. We do this by using the TaggedDocument method. The format will be “TRAIN_i” or “TEST_i” where “i” is a dummy index of the post.\n",
    "\n",
    "First let's import the necessary libraries. \n"
   ]
  },
  {
   "cell_type": "code",
   "execution_count": 0,
   "metadata": {
    "colab": {},
    "colab_type": "code",
    "id": "qkXdv0A6QIpB"
   },
   "outputs": [],
   "source": [
    "from tqdm import tqdm\n",
    "from gensim.models import doc2vec\n",
    "from sklearn import utils\n",
    "import gensim\n",
    "from gensim.models.doc2vec import TaggedDocument\n",
    "import re"
   ]
  },
  {
   "cell_type": "markdown",
   "metadata": {
    "colab_type": "text",
    "id": "cBov76MXxoA8"
   },
   "source": [
    "Let's start by defining a function that labels our documents in the corpus. We just give them dummy labels TRAIN_i or TEST_i for post i. Given a corpus and labels, we return a variable that includes a label indicating if it's test or training data. "
   ]
  },
  {
   "cell_type": "code",
   "execution_count": 0,
   "metadata": {
    "colab": {},
    "colab_type": "code",
    "id": "TtVzwM8RQIpD"
   },
   "outputs": [],
   "source": [
    "def label_sentences(corpus, label_type):\n",
    "    \"\"\"\n",
    "    Gensim's Doc2Vec implementation requires each document/paragraph to have a label associated with it.\n",
    "    We do this by using the TaggedDocument method. The format will be \"TRAIN_i\" or \"TEST_i\" where \"i\" is\n",
    "    a dummy index of the post.\n",
    "    \"\"\"\n",
    "  \n",
    "\n",
    "\n",
    "\n",
    "  \n",
    "    return labeled"
   ]
  },
  {
   "cell_type": "markdown",
   "metadata": {
    "colab_type": "text",
    "id": "5lsDfgBnxoBC"
   },
   "source": [
    "Just like above we split our dataset up in test and training data."
   ]
  },
  {
   "cell_type": "code",
   "execution_count": 0,
   "metadata": {
    "colab": {},
    "colab_type": "code",
    "id": "GfXghWoJQIpF"
   },
   "outputs": [],
   "source": []
  },
  {
   "cell_type": "markdown",
   "metadata": {
    "colab_type": "text",
    "id": "A_KYhbHmxoBI"
   },
   "source": [
    "Let's have a look how our data looks at this moment: "
   ]
  },
  {
   "cell_type": "code",
   "execution_count": 0,
   "metadata": {
    "colab": {},
    "colab_type": "code",
    "id": "321apZFWQIpI"
   },
   "outputs": [],
   "source": []
  },
  {
   "cell_type": "markdown",
   "metadata": {
    "colab_type": "text",
    "id": "GvY-IsHNxoBQ"
   },
   "source": [
    "Gensim allows us to build a model very easily. We can vary the parameters to fit your data: \n",
    "\n",
    "*    dm=0 , distributed bag of words (DBOW) is used.\n",
    "*    vector_size=300 , 300 vector dimensional feature vectors.\n",
    "*    negative=5 , specifies how many “noise words” should be drawn.\n",
    "*    min_count=1, ignores all words with total frequency lower than this.\n",
    "*    alpha=0.065 , the initial learning rate.\n",
    "\n",
    "We initialize the model and train for 30 epochs. (slower computers may want to train for less epochs). Be sure to set your runtime to TPU/GPU hardware acceleration! Maybe test with a lower amount of epochs first to see how high you can go during class time!\n",
    "\n"
   ]
  },
  {
   "cell_type": "code",
   "execution_count": 0,
   "metadata": {
    "colab": {},
    "colab_type": "code",
    "id": "G9UoqpKnQIpM"
   },
   "outputs": [],
   "source": []
  },
  {
   "cell_type": "code",
   "execution_count": 0,
   "metadata": {
    "colab": {},
    "colab_type": "code",
    "id": "lSDy4huyQIpP"
   },
   "outputs": [],
   "source": []
  },
  {
   "cell_type": "markdown",
   "metadata": {
    "colab_type": "text",
    "id": "mNp4a3ouxoB5"
   },
   "source": [
    "Now let's define a function to the vectors out of this trained  model, so that we can feed them into the logistic regression:"
   ]
  },
  {
   "cell_type": "code",
   "execution_count": 0,
   "metadata": {
    "colab": {},
    "colab_type": "code",
    "id": "A6cGBFuRQIpT"
   },
   "outputs": [],
   "source": [
    "def get_vectors(model, corpus_size, vectors_size, vectors_type):\n",
    "    \"\"\"\n",
    "    Get vectors from trained doc2vec model\n",
    "    :param doc2vec_model: Trained Doc2Vec model\n",
    "    :param corpus_size: Size of the data\n",
    "    :param vectors_size: Size of the embedding vectors\n",
    "    :param vectors_type: Training or Testing vectors\n",
    "    :return: list of vectors\n",
    "    \"\"\"\n",
    "    \n",
    "\n",
    "\n",
    "\n",
    "\n",
    "    \n",
    "    return vectors"
   ]
  },
  {
   "cell_type": "markdown",
   "metadata": {
    "colab_type": "text",
    "id": "cgOEdSpS7nTW"
   },
   "source": [
    "We can use this function to create a vectorised training and test set with 1 entry per document for the input in classification models such as logistic regression. "
   ]
  },
  {
   "cell_type": "code",
   "execution_count": 0,
   "metadata": {
    "colab": {},
    "colab_type": "code",
    "id": "57wLrRE3QIpX"
   },
   "outputs": [],
   "source": []
  },
  {
   "cell_type": "markdown",
   "metadata": {
    "colab_type": "text",
    "id": "WJE2ZeuOxoCD"
   },
   "source": [
    "We can now feed these vectors to the classifier again: "
   ]
  },
  {
   "cell_type": "code",
   "execution_count": 0,
   "metadata": {
    "colab": {},
    "colab_type": "code",
    "id": "NoLo0XkeQIpa"
   },
   "outputs": [],
   "source": []
  },
  {
   "cell_type": "markdown",
   "metadata": {
    "colab_type": "text",
    "id": "GqmumA0-xoCV"
   },
   "source": [
    "80%, that is the best result so far! Remember, we can actually use any classifier with this method! So up to you to make your project as efficient as possible :)\n",
    "\n",
    "Try using a different classifiers, e.g. Decision tree or SVM. Does that influence the results? \n",
    "\n",
    "\n",
    "    \n",
    "New methods are coming out every day in the field of data science. Just at the end of August 2019, the first implementation of BERT for document classfication was published: DocBERT: https://arxiv.org/abs/1904.08398"
   ]
  },
  {
   "cell_type": "markdown",
   "metadata": {
    "colab_type": "text",
    "id": "jvthUI_yxoCg"
   },
   "source": [
    "## References\n",
    "\n",
    "* https://radimrehurek.com/gensim/models/word2vec.html\n",
    "* https://towardsdatascience.com/multi-class-text-classification-model-comparison-and-selection-5eb066197568\n",
    "* https://github.com/kavgan/nlp-text-mining-working-examples/tree/master/word2vec\n",
    "* https://medium.com/@mishra.thedeepak/doc2vec-simple-implementation-example-df2afbbfbad5]"
   ]
  }
 ],
 "metadata": {
  "accelerator": "TPU",
  "colab": {
   "collapsed_sections": [],
   "name": "lab10b_empty.ipynb",
   "provenance": []
  },
  "kernelspec": {
   "display_name": "Python 3",
   "language": "python",
   "name": "python3"
  },
  "language_info": {
   "codemirror_mode": {
    "name": "ipython",
    "version": 3
   },
   "file_extension": ".py",
   "mimetype": "text/x-python",
   "name": "python",
   "nbconvert_exporter": "python",
   "pygments_lexer": "ipython3",
   "version": "3.7.3"
  }
 },
 "nbformat": 4,
 "nbformat_minor": 1
}
